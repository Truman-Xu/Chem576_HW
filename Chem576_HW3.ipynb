{
 "cells": [
  {
   "cell_type": "code",
   "execution_count": 14,
   "metadata": {},
   "outputs": [],
   "source": [
    "from sympy import *\n",
    "from sympy import Rational as frac\n",
    "from sympy.plotting import plot\n",
    "from IPython.display import display, HTML\n",
    "init_printing(use_unicode=True)"
   ]
  },
  {
   "cell_type": "markdown",
   "metadata": {},
   "source": [
    "## Problem 5.3\n",
    "### (a)"
   ]
  },
  {
   "cell_type": "code",
   "execution_count": 57,
   "metadata": {},
   "outputs": [],
   "source": [
    "theta, h, nu, kb, N, V, c, pi = symbols('theta_D h nu_m k_B N V c_av pi')"
   ]
  },
  {
   "cell_type": "code",
   "execution_count": 45,
   "metadata": {},
   "outputs": [
    {
     "data": {
      "image/png": "[encoded data removed]",
      "text/latex": [
       "$\\displaystyle \\theta_{D} = \\frac{h \\nu_{m}}{k_{B}}$"
      ],
      "text/plain": [
       "      h⋅νₘ\n",
       "θ_D = ────\n",
       "      k_B "
      ]
     },
     "execution_count": 45,
     "metadata": {},
     "output_type": "execute_result"
    }
   ],
   "source": [
    "Eq(theta, h*nu/kb)"
   ]
  },
  {
   "cell_type": "code",
   "execution_count": 46,
   "metadata": {},
   "outputs": [
    {
     "data": {
      "image/png": "[encoded data removed]",
      "text/latex": [
       "$\\displaystyle \\nu_{m} = \\frac{\\sqrt[3]{6} c_{av} \\sqrt[3]{\\frac{N}{V \\pi}}}{2}$"
      ],
      "text/plain": [
       "                   _____\n",
       "     3 ___        ╱  N  \n",
       "     ╲╱ 6 ⋅cₐᵥ⋅3 ╱  ─── \n",
       "               ╲╱   V⋅π \n",
       "νₘ = ───────────────────\n",
       "              2         "
      ]
     },
     "execution_count": 46,
     "metadata": {},
     "output_type": "execute_result"
    }
   ],
   "source": [
    "Eq(nu, (3/(4*pi)*N/V)**frac(1,3)*c)"
   ]
  },
  {
   "cell_type": "code",
   "execution_count": 47,
   "metadata": {},
   "outputs": [
    {
     "data": {
      "image/png": "[encoded data removed]",
      "text/latex": [
       "$\\displaystyle \\theta_{D} = \\frac{\\sqrt[3]{6} c_{av} h \\sqrt[3]{\\frac{N}{V \\pi}}}{2 k_{B}}$"
      ],
      "text/plain": [
       "                      _____\n",
       "      3 ___          ╱  N  \n",
       "      ╲╱ 6 ⋅cₐᵥ⋅h⋅3 ╱  ─── \n",
       "                  ╲╱   V⋅π \n",
       "θ_D = ─────────────────────\n",
       "              2⋅k_B        "
      ]
     },
     "execution_count": 47,
     "metadata": {},
     "output_type": "execute_result"
    }
   ],
   "source": [
    "Eq(theta, h*nu/kb).subs(nu, (3/(4*pi)*N/V)**frac(1,3)*c)"
   ]
  },
  {
   "cell_type": "code",
   "execution_count": 48,
   "metadata": {},
   "outputs": [
    {
     "data": {
      "image/png": "[encoded data removed]",
      "text/latex": [
       "$\\displaystyle c_{av} = \\frac{6^{\\frac{2}{3}} k_{B} \\theta_{D}}{3 h \\sqrt[3]{\\frac{N}{V \\pi}}}$"
      ],
      "text/plain": [
       "        2/3        \n",
       "       6   ⋅k_B⋅θ_D\n",
       "cₐᵥ = ─────────────\n",
       "              _____\n",
       "             ╱  N  \n",
       "      3⋅h⋅3 ╱  ─── \n",
       "          ╲╱   V⋅π "
      ]
     },
     "execution_count": 48,
     "metadata": {},
     "output_type": "execute_result"
    }
   ],
   "source": [
    "c_expr = solve(Eq(theta, h*nu/kb).subs(nu, (3/(4*pi)*N/V)**frac(1,3)*c),c)[0]\n",
    "Eq(c, c_expr)"
   ]
  },
  {
   "cell_type": "code",
   "execution_count": 58,
   "metadata": {},
   "outputs": [],
   "source": [
    "theta = 1890 ## K\n",
    "N_A = 6.022e23 ## mol^-1\n",
    "n = 1 ## assume 1 mol (the number does not matter here)\n",
    "N = n*N_A ## number of carbon atoms in 1 mol of diamond\n",
    "mw = 12 # g/mol molecular weight\n",
    "rho = 3.25e3 # kg/m^3\n",
    "V = n*mw/1000/rho # m^3\n",
    "kb = 1.3806e-23 # J/K\n",
    "h = 6.62607e-34 # J*s\n",
    "pi = 3.14159265"
   ]
  },
  {
   "cell_type": "code",
   "execution_count": 67,
   "metadata": {},
   "outputs": [
    {
     "name": "stdout",
     "output_type": "stream",
     "text": [
      "c_av = 1.1619e+4\n"
     ]
    }
   ],
   "source": [
    "c_value = solve(Eq(theta, h*nu/kb).subs(nu, (3/(4*pi)*N/V)**frac(1,3)*c),c)[0]\n",
    "print(\"c_av = {:.4e}\".format(c_value))"
   ]
  },
  {
   "cell_type": "markdown",
   "metadata": {},
   "source": [
    "### (b)\n",
    "\n",
    "The experimental value of speed of sound in diamond is $c = 12000 \\;m/s$, and calculated value $c_av = 11619 \\;m/s$ is in agreement with the experimental value. \n",
    "\n",
    "Source of the experimental value: https://www.engineeringtoolbox.com/sound-speed-solids-d_713.html"
   ]
  },
  {
   "cell_type": "markdown",
   "metadata": {},
   "source": [
    "## Problem 5.6\n",
    "### (a)\n",
    "For Debye model,\n",
    "$$\n",
    "C_V = 9Nk_B\\left(\\frac{T}{\\theta_D}\\right)^3 \\int_0^{\\theta_D/T} \\frac{u^4e^udu}{(e^u-1)^2}\n",
    "$$\n",
    "Where\n",
    "$$\n",
    "u = \\frac{h\\nu}{k_BT}\n",
    "$$\n",
    "and \n",
    "$$\n",
    "\\theta_D = \\frac{h\\nu_m}{k_B}\n",
    "$$"
   ]
  },
  {
   "cell_type": "code",
   "execution_count": 289,
   "metadata": {},
   "outputs": [],
   "source": [
    "# for integration by gaussian quatrature\n",
    "from scipy.integrate import quad\n",
    "import numpy as np\n",
    "from matplotlib import pyplot as plt"
   ]
  },
  {
   "cell_type": "code",
   "execution_count": 335,
   "metadata": {},
   "outputs": [],
   "source": [
    "Nkb = 8.3145 # J mol^-1 K ideal gas constant\n",
    "theta_D = 1000\n",
    "\n",
    "def integrand(u):\n",
    "    return u**4*np.exp(u)/(np.exp(u)-1)**2\n",
    "\n",
    "def Cv_Debye(T):\n",
    "    return 9*Nkb*(T/theta_D)**3*quad(integrand, 0, theta_D/T)[0]"
   ]
  },
  {
   "cell_type": "code",
   "execution_count": 349,
   "metadata": {},
   "outputs": [
    {
     "data": {
      "image/png": "[encoded data removed]",
      "text/plain": [
       "<Figure size 432x288 with 1 Axes>"
      ]
     },
     "metadata": {
      "needs_background": "light"
     },
     "output_type": "display_data"
    }
   ],
   "source": [
    "T = np.linspace(5, 1000, 100)\n",
    "x = T/theta_D\n",
    "y = np.array([Cv_Debye(temp) for temp in T])\n",
    "\n",
    "plt.plot(x,y)\n",
    "plt.title(r'$T/\\theta_D$ vs. $C_v$ for Debye Model')\n",
    "plt.xlabel(r'$T/\\theta_D$')\n",
    "plt.ylabel(r'$C_V$')\n",
    "plt.show()"
   ]
  },
  {
   "cell_type": "markdown",
   "metadata": {},
   "source": [
    "### (b)\n",
    "\n",
    "For Eistein model,\n",
    "$$\n",
    "C_V = 3Nk_B\\left(\\frac{h\\nu}{k_BT}\\right)^2 \\frac{e^{h\\nu/k_BT}}{(e^{h\\nu/k_BT}-1)^2}\n",
    "$$\n",
    "Define the tempurature $\\theta_E$ as\n",
    "$$\n",
    "\\theta_E = \\frac{h\\nu}{k_B}\n",
    "$$\n",
    "Therefore,\n",
    "$$\n",
    "C_V = 3Nk_B\\left(\\frac{\\theta_E}{T}\\right)^2 \\frac{e^{\\theta_E/T}}{(e^{\\theta_E/T}-1)^2}\n",
    "$$"
   ]
  },
  {
   "cell_type": "code",
   "execution_count": 341,
   "metadata": {},
   "outputs": [],
   "source": [
    "theta_E = 1000 # K\n",
    "def Cv_Eistein(T):\n",
    "    return 3*Nkb*(theta_E/T)**2*np.exp(theta_E/T)/(np.exp(theta_E/T)-1)**2"
   ]
  },
  {
   "cell_type": "code",
   "execution_count": 348,
   "metadata": {},
   "outputs": [
    {
     "data": {
      "image/png": "[encoded data removed]",
      "text/plain": [
       "<Figure size 432x288 with 1 Axes>"
      ]
     },
     "metadata": {
      "needs_background": "light"
     },
     "output_type": "display_data"
    }
   ],
   "source": [
    "T = np.linspace(5, 1000, 100)\n",
    "x = T/theta_E\n",
    "y = np.array([Cv_Eistein(temp) for temp in T])\n",
    "\n",
    "plt.plot(x,y)\n",
    "plt.title(r'$T/\\theta_D$ vs. $C_v$ for Eistein Model')\n",
    "plt.xlabel(r'$T/\\theta_D$')\n",
    "plt.ylabel(r'$C_V$')\n",
    "plt.show()"
   ]
  },
  {
   "cell_type": "markdown",
   "metadata": {},
   "source": [
    "### Compare the two models"
   ]
  },
  {
   "cell_type": "code",
   "execution_count": 359,
   "metadata": {},
   "outputs": [
    {
     "data": {
      "image/png": "[encoded data removed]",
      "text/plain": [
       "<Figure size 432x288 with 1 Axes>"
      ]
     },
     "metadata": {
      "needs_background": "light"
     },
     "output_type": "display_data"
    }
   ],
   "source": [
    "x = T/theta_D\n",
    "y = np.array([Cv_Debye(temp) for temp in T])\n",
    "plt.plot(x,y, label=\"Debye\")\n",
    "\n",
    "T = np.linspace(5, 1000, 100)\n",
    "x = T/theta_E\n",
    "y = np.array([Cv_Eistein(temp) for temp in T])\n",
    "plt.plot(x,y, label=\"Eistein\")\n",
    "\n",
    "plt.title(r'$T/\\theta_D$ vs. $C_v$ for Both Models')\n",
    "plt.xlabel(r'$T/\\theta_D$')\n",
    "plt.ylabel(r'$C_V$')\n",
    "plt.legend()\n",
    "plt.show()"
   ]
  }
 ],
 "metadata": {
  "kernelspec": {
   "display_name": "Python 3",
   "language": "python",
   "name": "python3"
  },
  "language_info": {
   "codemirror_mode": {
    "name": "ipython",
    "version": 3
   },
   "file_extension": ".py",
   "mimetype": "text/x-python",
   "name": "python",
   "nbconvert_exporter": "python",
   "pygments_lexer": "ipython3",
   "version": "3.7.3"
  }
 },
 "nbformat": 4,
 "nbformat_minor": 4
}
