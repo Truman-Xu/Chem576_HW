{
 "cells": [
  {
   "cell_type": "markdown",
   "metadata": {},
   "source": [
    "$$\n",
    "\\newcommand{pdiff}[3]{\\left(\\frac{\\partial #1}{\\partial #2}\\right)_{#3}}\n",
    "\\newcommand{diff}[3]{\\left(\\frac{d #1}{d #2}\\right)_{#3}}\n",
    "\\newcommand{partialT}[1]{\\frac{\\partial}{\\partial T} \\left(#1\\right)_{N,V}}\n",
    "$$"
   ]
  },
  {
   "cell_type": "markdown",
   "metadata": {},
   "source": [
    "## Chem 576 HW2"
   ]
  },
  {
   "cell_type": "markdown",
   "metadata": {},
   "source": [
    "### Exercise 3.3\n",
    "Use Eq. (3.43) to show that the electronic partition function in Eq. (3.41) contributes only a constant to the energy, and thus makes a vanishing contribution to the constant-volume heat capacity.\n",
    "\n",
    "------------"
   ]
  },
  {
   "cell_type": "markdown",
   "metadata": {},
   "source": [
    "According to Eq.(3.41),\n",
    "$$(p.f.)_{el} = e^{-\\epsilon_0/k_B T} $$\n",
    "Substitude in Eq.(3.43),\n",
    "$$\n",
    "\\begin{align}\n",
    "A^{el} &= -k_B T \\ln{(e^{-\\epsilon_0/k_B T})^N} \\\\\n",
    "    &= -Nk_BT\\left(-\\frac{\\epsilon_0}{k_BT}\\right) \\\\\n",
    "    &= N\\epsilon_0 \\\\\n",
    "E^{el} &= -T^2 \\partialT{\\frac{A^{el}}{T}} \\\\\n",
    "    &= -T^2 \\partialT{\\frac{N\\epsilon_0}{T}} \\\\\n",
    "    &= -T^2N\\epsilon_0\\left(-\\frac{1}{T^2}\\right)\\\\\n",
    "    &= N\\epsilon_0\\\\\n",
    "C_V &= \\pdiff{E^{el}}{T}{N,V} = 0\n",
    "\\end{align}\n",
    "$$\n",
    "Therefore, electronic partition function only contributes $N\\epsilon_0$ to the energy, and the contribution vanishes on constant-volume heat capacity $C_V$."
   ]
  },
  {
   "cell_type": "markdown",
   "metadata": {},
   "source": [
    "### Excercise 3.4\n",
    "Show from Eqs.(3.43)–(3.44) that every mode in the internal partition function that has $(p.f.)_{mode} \\propto T^\\nu$ in the high-temperature limit, will contribute $\\nu R$ to the molar constant-volume heat capacity.\n",
    "\n",
    "--------------"
   ]
  },
  {
   "cell_type": "markdown",
   "metadata": {},
   "source": [
    "Since \n",
    "$$(p.f.)_{mode} \\propto T^\\nu$$\n",
    "any arbituary partition function of a mode can be expressed as \n",
    "$$(p.f.)_{mode} = \\left(\\lambda T^\\nu\\right)_{V,N}$$\n",
    "where $\\lambda$ is an arbituary constant."
   ]
  },
  {
   "cell_type": "markdown",
   "metadata": {},
   "source": [
    "Under constant $V$ and $N$, Helmholtz free energy as a function of $T$ can be expressed\n",
    "$$\n",
    "\\begin{align}\n",
    "\\Big(A(T)\\Big)_{V,N} &= -k_B T \\ln{\\left(\\lambda T^\\nu\\right)^N} \\\\\n",
    "    &= -\\nu Nk_BT \\ln{(\\lambda T)} \\\\\n",
    "    &= -\\nu Nk_BT (\\ln{T} + \\ln{\\lambda}) \\\\\n",
    "\\end{align}\n",
    "$$\n",
    "Total energy can be expressed as\n",
    "$$\n",
    "\\begin{align}\n",
    "E &= -T^2 \\partialT{\\frac{A_{mode}}{T}} \\\\\n",
    "    &= -T^2 \\frac{\\partial}{\\partial T}\\Big(-\\nu Nk_B(\\ln{T} + \\ln{\\lambda})\\Big)_{N,V} \\\\\n",
    "    &= \\nu Nk_BT^2 \\frac{d}{d T}\\big(\\ln{T} + \\ln{\\lambda}\\big) \\\\\n",
    "    &= \\nu Nk_BT^2\\left(\\frac{d \\ln{T}}{d T}+0\\right)\\\\\n",
    "    &= \\nu Nk_BT\\\\\n",
    "C_V &= \\pdiff{E}{T}{N,V} = \\pdiff{(\\nu Nk_BT)}{T}{N,V} \\\\\n",
    "    &= \\nu Nk_B\n",
    "\\end{align}\n",
    "$$\n",
    "\n",
    "For molar constant-volume heat capacity $C_{m,V}$,\n",
    "$$N = N_A$$\n",
    "Thus,\n",
    "$$C_{m,V} = \\nu N_A k_B = \\nu R$$"
   ]
  },
  {
   "cell_type": "markdown",
   "metadata": {},
   "source": [
    "### Exercise 3.8\n",
    "The high-temperature limit of the rotational partition function for the homonuclear diatomic molecule in Eq.(3.55) contains a factor of $\\rho^2$ for the nuclear spin degeneracy, where $\\rho = 2I + 1$. Work through the corresponding Helmholtz free energy.\n",
    "\n",
    "**(a)**\n",
    "What is the effect of this degeneracy factor on the energy $E$? On the heat capacity $C_V$?\n",
    "\n",
    "**(b)**\n",
    "What is the effect of this factor on the entropy $S$? On the chemical potential $\\mu$?\n",
    "\n",
    "--------------"
   ]
  },
  {
   "cell_type": "markdown",
   "metadata": {},
   "source": [
    "**(a)**\n",
    "\n",
    "For heteronuclear diatomic molecules, the Helmholtz free energy is expressed as\n",
    "$$\n",
    "\\begin{align}\n",
    "A_{hetero}(T) &= -k_B T \\ln{\\left(\\sum_l (2l+1)e^{-l(l+1)\\theta_R/T}\\right)^N} \\\\\n",
    "    &= -Nk_B T \\ln{\\Big(\\int_0^\\infty e^{\\theta_Ru/T}du}\\Big) \\\\\n",
    "    &= -Nk_BT \\ln{\\frac{T}{\\theta_R}} \\\\\n",
    "E_{hetero} &= -T^2 \\partialT{\\frac{A_{hetero}}{T}}\\\\\n",
    "    &= -T^2 \\partialT{-Nk_B \\ln{\\frac{T}{\\theta_R}}}\\\\\n",
    "    &= Nk_BT^2 \\frac{d}{dT} \\big(\\ln{T}- \\ln{\\theta_R} \\big)\\\\\n",
    "    &= Nk_BT \\\\\n",
    "C_{V,hetero} &= \\pdiff{(Nk_BT)}{T}{N,V} \\\\\n",
    "    &= Nk_B\n",
    "\\end{align}\n",
    "$$\n",
    "For homonuclear diatomic molecules, \n",
    "$$\n",
    "\\begin{align}\n",
    "A_{homo}(T) &= -k_B T \\ln{\\left(\\frac{1}{2}\\rho^2 \\sum_l (2l+1)e^{-l(l+1)\\theta_R/T}\\right)^N} \\\\\n",
    "    &= -Nk_B T \\ln{\\Big(\\frac{\\rho^2}{2}\\int_0^\\infty e^{\\theta_Ru/T}du}\\Big) \\\\\n",
    "    &= -Nk_BT \\ln{\\frac{\\rho^2 T}{2\\theta_R}} \\\\\n",
    "E_{homo} &= -T^2 \\partialT{\\frac{A_{homo}}{T}}\\\\\n",
    "    &= -T^2 \\partialT{-Nk_B \\ln{\\frac{\\rho^2 T}{2\\theta_R}}}\\\\\n",
    "    &= Nk_BT^2 \\frac{d}{dT} \\big(\\ln{T} +2\\ln{\\rho} -\\ln{2\\theta_R} \\big)\\\\\n",
    "    &= Nk_BT \\\\\n",
    "C_{V,homo} &= \\pdiff{(Nk_BT)}{T}{N,V} \\\\\n",
    "    &= Nk_B\n",
    "\\end{align}\n",
    "$$\n",
    "Therefore, the degeneracy has no effect on energy $E$ or heat capacity $C_V$"
   ]
  },
  {
   "cell_type": "markdown",
   "metadata": {},
   "source": [
    "**(b)**\n",
    "\n",
    "For entropy, we have\n",
    "$$\n",
    "\\begin{align}\n",
    "S_{hetero} &= -\\pdiff{A_{hetero}}{T}{V,N}\\\\\n",
    "    &= -\\frac{\\partial}{\\partial T}\\left( -Nk_BT\\ln{\\frac{T}{\\theta_R}}\\right)_{V,N}\\\\\n",
    "    &= Nk_B\\ln{\\frac{T}{\\theta_R}}+Nk_BT{\\frac{1}{T}}\\\\\n",
    "    &= Nk_B\\left(1+\\ln{\\frac{T}{\\theta_R}}\\right)\\\\\n",
    "S_{homo} &= -\\pdiff{A_{homo}}{T}{V,N}\\\\\n",
    "    &= -\\frac{\\partial}{\\partial T}\\left( -Nk_BT\\ln{\\frac{\\rho^2T}{2\\theta_R}}\\right)_{V,N}\\\\\n",
    "    &= Nk_B\\ln{\\frac{\\rho^2T}{2\\theta_R}}+Nk_BT{\\frac{1}{T}}\\\\\n",
    "    &= Nk_B\\left(1+\\ln{\\frac{\\rho^2T}{2\\theta_R}}\\right)\\\\\n",
    "    &= Nk_B\\left(1+\\ln{\\frac{T}{\\theta_R}} +\\ln{\\frac{\\rho^2}{2}} \\right)\\\\\n",
    "\\end{align}\n",
    "$$\n",
    "The difference of entropy $\\Delta S$ due to the degeneracy is\n",
    "$$\n",
    "\\Delta S = S_{homo}-S_{hetero} = Nk_B\\ln{\\frac{\\rho^2}{2}}\n",
    "$$\n",
    "For chemical potential, we have\n",
    "$$\n",
    "\\begin{align}\n",
    "\\mu_{hetero} &= \\pdiff{A_{hetero}}{N}{V,T}\\\\\n",
    "    &= -k_B T \\ln{\\frac{T}{\\theta_R}} \\\\\n",
    "\\mu_{homo} &= \\pdiff{A_{homo}}{N}{V,T}\\\\\n",
    "    &= -k_B T \\ln{\\left(\\frac{\\rho^2T}{2\\theta_R}\\right)} \\\\\n",
    "    &= -k_B T \\left( \\ln{\\frac{T}{\\theta_R}} + \\ln{\\frac{\\rho^2}{2}}\\right)\\\\\n",
    "\\end{align}\n",
    "$$\n",
    "\n",
    "The difference of chemical potential $\\mu$ due to the degeneracy is\n",
    "$$\n",
    "\\Delta \\mu = \\mu_{homo}-\\mu_{hetero} = -k_BT\\ln{\\frac{\\rho^2}{2}}\n",
    "$$"
   ]
  },
  {
   "cell_type": "markdown",
   "metadata": {},
   "source": [
    "### Exercise 3.19\n",
    "Consider the following chemical reaction between perfect gases\n",
    "$$\n",
    "A_2 + B_2 <=> 2AB\n",
    "$$\n",
    "**(a)** Show the law of mass action and equilibrium constant in this case are given by\n",
    "$$\n",
    "\\frac{N_{AA} N_{BB}}{[N_{AB}]^2} = \\frac{(p.f.)_{AA}(p.f.)_{BB}}{[(p.f.)_{AB}]^2}\\equiv K_{eq}(T)\n",
    "$$\n",
    "\n",
    "where $K_{eq}(T)$ is independent of $V$.\n",
    "\n",
    "**(b)** Show the chemical potentials satisfy\n",
    "$$\n",
    "\\mu_1+\\mu_2 = 2\\mu_{12}\n",
    "$$\n",
    "------------------------"
   ]
  },
  {
   "cell_type": "markdown",
   "metadata": {},
   "source": [
    "**(a)**\n",
    "We have constraints for energy E, numbers of molecules $N_{AA}$, $N_{BB}$, $N_{AB}$, and number of atoms $N_A$ and $N_B$\n",
    "$$\n",
    "\\begin{align}\n",
    "2N_{AA}+N_{AB}&=N_A \\\\\n",
    "2N_{BB}+N_{AB}&=N_B \\\\\n",
    "\\sum_i n_i^a \\epsilon_i^a + \\sum_i n_i^b \\epsilon_i^b +\\sum_i n_i^{ab} \\epsilon_i^{ab} &= E\n",
    "\\end{align}\n",
    "$$"
   ]
  },
  {
   "cell_type": "markdown",
   "metadata": {},
   "source": [
    "Using Lagrange's method of undetermined multipliers,\n",
    "$$\n",
    "\\begin{align}\n",
    "2\\delta_{AA}+\\delta_{AB}&=0 \\\\\n",
    "2\\delta_{BB}+\\delta_{AB}&=0 \\\\\n",
    "2\\alpha_A\\delta_{AA}+\\alpha_A\\delta_{AB}&=0 \\\\\n",
    "2\\alpha_B\\delta_{BB}+\\alpha_B\\delta_{AB}&=0 \\\\\n",
    "\\end{align}\n",
    "$$"
   ]
  },
  {
   "cell_type": "markdown",
   "metadata": {},
   "source": [
    "\n",
    "$$\n",
    "\\begin{align}\n",
    "e^{2\\alpha_A} &\\equiv \\lambda_A \\\\\n",
    "e^{2\\alpha_B} &\\equiv \\lambda_B \\\\\n",
    "N_{AA} &= e^{2\\alpha_A}(p.f.)_{AA}\\\\\n",
    "N_{BB} &= e^{2\\alpha_B}(p.f.)_{BB}\\\\\n",
    "N_{AB} &= e^{\\alpha_A+\\alpha_B}(p.f.)_{AB}\\\\\n",
    "N_{AA}N_{BB} &= e^{2(\\alpha_A+\\alpha_B)}(p.f.)_{AA}(p.f.)_{BB} \\\\\n",
    "\\end{align}\n",
    "$$\n",
    "Therefore,\n",
    "$$\n",
    "\\frac{N_{AA} N_{BB}}{[N_{AB}]^2} = \\frac{(p.f.)_{AA}(p.f.)_{BB}}{[(p.f.)_{AB}]^2}\\equiv K_{eq}(T)\n",
    "$$"
   ]
  },
  {
   "cell_type": "code",
   "execution_count": null,
   "metadata": {},
   "outputs": [],
   "source": []
  }
 ],
 "metadata": {
  "kernelspec": {
   "display_name": "Python 3",
   "language": "python",
   "name": "python3"
  },
  "language_info": {
   "codemirror_mode": {
    "name": "ipython",
    "version": 3
   },
   "file_extension": ".py",
   "mimetype": "text/x-python",
   "name": "python",
   "nbconvert_exporter": "python",
   "pygments_lexer": "ipython3",
   "version": "3.7.3"
  }
 },
 "nbformat": 4,
 "nbformat_minor": 4
}
