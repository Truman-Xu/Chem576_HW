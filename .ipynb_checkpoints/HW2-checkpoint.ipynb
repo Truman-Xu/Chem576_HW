{
 "cells": [
  {
   "cell_type": "markdown",
   "metadata": {},
   "source": [
    "$$\n",
    "\\newcommand{pdiff}[3]{\\left(\\frac{\\partial #1}{\\partial #2}\\right)_{#3}}\n",
    "\\newcommand{diff}[3]{\\left(\\frac{d #1}{d #2}\\right)_{#3}}\n",
    "\\newcommand{partialT}[1]{\\frac{\\partial}{\\partial T} \\left(#1\\right)_{N,V}}\n",
    "$$"
   ]
  },
  {
   "cell_type": "markdown",
   "metadata": {},
   "source": [
    "## Chem 576 HW2"
   ]
  },
  {
   "cell_type": "markdown",
   "metadata": {},
   "source": [
    "### Exercise 3.3\n",
    "Use Eq. (3.43) to show that the electronic partition function in Eq. (3.41) contributes only a constant to the energy, and thus makes a vanishing contribution to the constant-volume heat capacity.\n",
    "\n",
    "------------"
   ]
  },
  {
   "cell_type": "markdown",
   "metadata": {},
   "source": [
    "According to Eq.(3.41),\n",
    "$$(p.f.)_{el} = e^{-\\epsilon_0/k_B T} $$\n",
    "Substitude in Eq.(3.43),\n",
    "$$\n",
    "\\begin{align}\n",
    "A^{el} &= -k_B T \\ln{(e^{-\\epsilon_0/k_B T})^N} \\\\\n",
    "    &= -Nk_BT\\left(-\\frac{\\epsilon_0}{k_BT}\\right) \\\\\n",
    "    &= N\\epsilon_0 \\\\\n",
    "E^{el} &= -T^2 \\partialT{\\frac{A^{el}}{T}} \\\\\n",
    "    &= -T^2 \\partialT{\\frac{N\\epsilon_0}{T}} \\\\\n",
    "    &= -T^2N\\epsilon_0\\left(-\\frac{1}{T^2}\\right)\\\\\n",
    "    &= N\\epsilon_0\\\\\n",
    "C_V &= \\pdiff{E^{el}}{T}{N,V} = 0\n",
    "\\end{align}\n",
    "$$\n",
    "Therefore, electronic partition function only contributes $N\\epsilon_0$ to the energy, and the contribution vanishes on constant-volume heat capacity $C_V$."
   ]
  },
  {
   "cell_type": "markdown",
   "metadata": {},
   "source": [
    "### Excercise 3.4\n",
    "Show from Eqs.(3.43)–(3.44) that every mode in the internal partition function that has $(p.f.)_{mode} \\propto T^\\nu$ in the high-temperature limit, will contribute $\\nu R$ to the molar constant-volume heat capacity.\n",
    "\n",
    "--------------"
   ]
  },
  {
   "cell_type": "markdown",
   "metadata": {},
   "source": [
    "Since \n",
    "$$(p.f.)_{mode} \\propto T^\\nu$$\n",
    "any arbituary partition function of a mode can be expressed as \n",
    "$$(p.f.)_{mode} = \\left(\\lambda T^\\nu\\right)_{V,N}$$\n",
    "where $\\lambda$ is an arbituary constant."
   ]
  },
  {
   "cell_type": "markdown",
   "metadata": {},
   "source": [
    "Under constant $V$ and $N$, Helmholtz free energy as a function of $T$ can be expressed\n",
    "$$\n",
    "\\begin{align}\n",
    "\\Big(A(T)\\Big)_{V,N} &= -k_B T \\ln{\\left(\\lambda T^\\nu\\right)^N} \\\\\n",
    "    &= -\\nu Nk_BT \\ln{(\\lambda T)} \\\\\n",
    "    &= -\\nu Nk_BT (\\ln{T} + \\ln{\\lambda}) \\\\\n",
    "\\end{align}\n",
    "$$\n",
    "Total energy can be expressed as\n",
    "$$\n",
    "\\begin{align}\n",
    "E &= -T^2 \\partialT{\\frac{A_{mode}}{T}} \\\\\n",
    "    &= -T^2 \\frac{\\partial}{\\partial T}\\Big(-\\nu Nk_B(\\ln{T} + \\ln{\\lambda})\\Big)_{N,V} \\\\\n",
    "    &= \\nu Nk_BT^2 \\frac{d}{d T}\\big(\\ln{T} + \\ln{\\lambda}\\big) \\\\\n",
    "    &= \\nu Nk_BT^2\\left(\\frac{d \\ln{T}}{d T}+0\\right)\\\\\n",
    "    &= \\nu Nk_BT\\\\\n",
    "C_V &= \\pdiff{E}{T}{N,V} = \\pdiff{(\\nu Nk_BT)}{T}{N,V} \\\\\n",
    "    &= \\nu Nk_B\n",
    "\\end{align}\n",
    "$$\n",
    "\n",
    "For molar constant-volume heat capacity $C_{m,V}$,\n",
    "$$N = N_A$$\n",
    "Thus,\n",
    "$$C_{m,V} = \\nu N_A k_B = \\nu R$$"
   ]
  },
  {
   "cell_type": "markdown",
   "metadata": {},
   "source": [
    "### Exercise 3.8\n",
    "The high-temperature limit of the rotational partition function for the homonuclear diatomic molecule in Eq.(3.55) contains a factor of $\\rho^2$ for the nuclear spin degeneracy, where $\\rho = 2I + 1$. Work through the corresponding Helmholtz free energy.\n",
    "\n",
    "**(a)**\n",
    "What is the effect of this degeneracy factor on the energy $E$? On the heat capacity $C_V$?\n",
    "\n",
    "**(b)**\n",
    "What is the effect of this factor on the entropy $S$? On the chemical potential $\\mu$?\n",
    "\n",
    "--------------"
   ]
  },
  {
   "cell_type": "markdown",
   "metadata": {},
   "source": [
    "**(a)**\n",
    "\n",
    "For heteronuclear diatomic molecules, the Helmholtz free energy is expressed as\n",
    "$$\n",
    "\\begin{align}\n",
    "A_{hetero}(T) &= -k_B T \\ln{\\left(\\sum_l (2l+1)e^{-l(l+1)\\theta_R/T}\\right)^N} \\\\\n",
    "    &= -Nk_B T \\ln{\\Big(\\int_0^\\infty e^{\\theta_Ru/T}du}\\Big) \\\\\n",
    "    &= -Nk_BT \\ln{\\frac{T}{\\theta_R}} \\\\\n",
    "E_{hetero} &= -T^2 \\partialT{\\frac{A_{hetero}}{T}}\\\\\n",
    "    &= -T^2 \\partialT{-Nk_B \\ln{\\frac{T}{\\theta_R}}}\\\\\n",
    "    &= Nk_BT^2 \\frac{d}{dT} \\big(\\ln{T}- \\ln{\\theta_R} \\big)\\\\\n",
    "    &= Nk_BT \\\\\n",
    "C_{V,hetero} &= \\pdiff{(Nk_BT)}{T}{N,V} \\\\\n",
    "    &= Nk_B\n",
    "\\end{align}\n",
    "$$\n",
    "For homonuclear diatomic molecules, \n",
    "$$\n",
    "\\begin{align}\n",
    "A_{homo}(T) &= -k_B T \\ln{\\left(\\frac{1}{2}\\rho^2 \\sum_l (2l+1)e^{-l(l+1)\\theta_R/T}\\right)^N} \\\\\n",
    "    &= -Nk_B T \\ln{\\Big(\\frac{\\rho^2}{2}\\int_0^\\infty e^{\\theta_Ru/T}du}\\Big) \\\\\n",
    "    &= -Nk_BT \\ln{\\frac{\\rho^2 T}{2\\theta_R}} \\\\\n",
    "E_{homo} &= -T^2 \\partialT{\\frac{A_{homo}}{T}}\\\\\n",
    "    &= -T^2 \\partialT{-Nk_B \\ln{\\frac{\\rho^2 T}{2\\theta_R}}}\\\\\n",
    "    &= Nk_BT^2 \\frac{d}{dT} \\big(\\ln{T} +2\\ln{\\rho} -\\ln{2\\theta_R} \\big)\\\\\n",
    "    &= Nk_BT \\\\\n",
    "C_{V,homo} &= \\pdiff{(Nk_BT)}{T}{N,V} \\\\\n",
    "    &= Nk_B\n",
    "\\end{align}\n",
    "$$\n",
    "Therefore, the degeneracy has no effect on energy $E$ or heat capacity $C_V$"
   ]
  },
  {
   "cell_type": "markdown",
   "metadata": {},
   "source": [
    "**(b)**\n",
    "\n",
    "For entropy, we have\n",
    "$$\n",
    "\\begin{align}\n",
    "S_{hetero} &= -\\pdiff{A_{hetero}}{T}{V,N}\\\\\n",
    "    &= -\\frac{\\partial}{\\partial T}\\left( -Nk_BT\\ln{\\frac{T}{\\theta_R}}\\right)_{V,N}\\\\\n",
    "    &= Nk_B\\ln{\\frac{T}{\\theta_R}}+Nk_BT{\\frac{1}{T}}\\\\\n",
    "    &= Nk_B\\left(1+\\ln{\\frac{T}{\\theta_R}}\\right)\\\\\n",
    "S_{homo} &= -\\pdiff{A_{homo}}{T}{V,N}\\\\\n",
    "    &= -\\frac{\\partial}{\\partial T}\\left( -Nk_BT\\ln{\\frac{\\rho^2T}{2\\theta_R}}\\right)_{V,N}\\\\\n",
    "    &= Nk_B\\ln{\\frac{\\rho^2T}{2\\theta_R}}+Nk_BT{\\frac{1}{T}}\\\\\n",
    "    &= Nk_B\\left(1+\\ln{\\frac{\\rho^2T}{2\\theta_R}}\\right)\\\\\n",
    "    &= Nk_B\\left(1+\\ln{\\frac{T}{\\theta_R}} +\\ln{\\frac{\\rho^2}{2}} \\right)\\\\\n",
    "\\end{align}\n",
    "$$\n",
    "The difference of entropy $\\Delta S$ due to the degeneracy is\n",
    "$$\n",
    "\\Delta S = S_{homo}-S_{hetero} = Nk_B\\ln{\\frac{\\rho^2}{2}}\n",
    "$$\n",
    "For chemical potential, we have\n",
    "$$\n",
    "\\begin{align}\n",
    "\\mu_{hetero} &= \\pdiff{A_{hetero}}{N}{V,T}\\\\\n",
    "    &= -k_B T \\ln{\\frac{T}{\\theta_R}} \\\\\n",
    "\\mu_{homo} &= \\pdiff{A_{homo}}{N}{V,T}\\\\\n",
    "    &= -k_B T \\ln{\\left(\\frac{\\rho^2T}{2\\theta_R}\\right)} \\\\\n",
    "    &= -k_B T \\left( \\ln{\\frac{T}{\\theta_R}} + \\ln{\\frac{\\rho^2}{2}}\\right)\\\\\n",
    "\\end{align}\n",
    "$$\n",
    "\n",
    "The difference of chemical potential $\\mu$ due to the degeneracy is\n",
    "$$\n",
    "\\Delta \\mu = \\mu_{homo}-\\mu_{hetero} = -k_BT\\ln{\\frac{\\rho^2}{2}}\n",
    "$$"
   ]
  },
  {
   "cell_type": "markdown",
   "metadata": {},
   "source": [
    "### Exercise 3.19\n",
    "Consider the following chemical reaction between perfect gases\n",
    "$$\n",
    "A_2 + B_2 <=> 2AB\n",
    "$$\n",
    "**(a)** Show the law of mass action and equilibrium constant in this case are given by\n",
    "$$\n",
    "\\frac{N_{AA} N_{BB}}{[N_{AB}]^2} = \\frac{(p.f.)_{AA}(p.f.)_{BB}}{[(p.f.)_{AB}]^2}\\equiv K_{eq}(T)\n",
    "$$\n",
    "\n",
    "where $K_{eq}(T)$ is independent of $V$.\n",
    "\n",
    "**(b)** Show the chemical potentials satisfy\n",
    "$$\n",
    "\\mu_1+\\mu_2 = 2\\mu_{12}\n",
    "$$\n",
    "\n",
    "------------------------"
   ]
  },
  {
   "cell_type": "markdown",
   "metadata": {},
   "source": [
    "**(a)**\n",
    "\n",
    "We have constraints for energy E, numbers of molecules $N_{AA}$, $N_{BB}$, $N_{AB}$, and number of atoms $N_A$ and $N_B$\n",
    "$$\n",
    "\\begin{align}\n",
    "2N_{AA}+N_{AB}&=N_A \\\\\n",
    "2N_{BB}+N_{AB}&=N_B \\\\\n",
    "\\sum_i n_i^a \\epsilon_i^a + \\sum_i n_i^b \\epsilon_i^b +\\sum_i n_i^{ab} \\epsilon_i^{ab} &= E\n",
    "\\end{align}\n",
    "$$\n",
    "\n",
    "The total number of complexion is \n",
    "$$\n",
    "\\begin{align}\n",
    "\\Omega &= \\sum_{N_{AA},N_{BB},N_{AB}} \\frac{1}{N_{AA}!\\;N_{BB}!\\;N_{AB}!}\\sum_{\\{n\\}}\\frac{N_{AA}!\\;N_{BB}!\\;N_{AB}!}{\\prod_{i}n_i^{a!}\\prod_{i}n_i^{b!}\\prod_{i}n_i^{ab!}} \\\\\n",
    "    &=\\sum_{N_{AA},N_{BB},N_{AB}} \\Omega(N_{AA},N_{BB},N_{AB};E) \\\\\n",
    "\\end{align}\n",
    "$$\n",
    "Using stirling approximation, and at the saddle point, the variation is zero\n",
    "$$\n",
    "\\begin{align}\n",
    "\\delta \\ln{\\Omega(N_{AA},N_{BB},N_{AB};E)} &= \\delta N_{AA}\\ln{(p.f.)_{AA}}+\\delta N_{BB}\\ln{(p.f.)_{BB}}+\\delta N_{AB}\\ln{(p.f.)_{AB}}\\\\\n",
    "    &-\\delta N_{AA}\\ln{N_{AA}}-\\delta N_{BB}\\ln{N_{BB}}-\\delta N_{AB}\\ln{N_{AB}}\\\\\n",
    "    &=0\n",
    "\\end{align}\n",
    "$$\n",
    "\n",
    "Define small variabtions on number of particles $\\delta N_{AA}$, $\\delta N_{BB}$, $\\delta N_{AB}$. The variations at constant $E$ are subject to the constraint that the net change in partical numbers has to be zero in respect to the total number of atoms ($N_A$ and $N_B$ are fixed)\n",
    "$$\n",
    "\\begin{align}\n",
    "2\\delta N_{AA}+\\delta N_{AB} &=0 \\\\\n",
    "2\\delta N_{BB}+\\delta N_{AB} &=0 \\\\\n",
    "\\end{align}\n",
    "$$\n",
    "Using Lagrange's method of undetermined multipliers, multiply the equation by a constant $\\alpha$,\n",
    "$$\n",
    "\\begin{align}\n",
    "2\\alpha_A\\delta N_{AA}+\\alpha_A\\delta N_{AB}&=0 \\\\\n",
    "2\\alpha_B\\delta N_{BB}+\\alpha_B\\delta N_{AB}&=0 \\\\\n",
    "\\end{align}\n",
    "$$\n",
    "\n",
    "Add the terms to the $\\delta \\ln{\\Omega}$ we have \n",
    "$$\n",
    "\\begin{align}\n",
    "\\delta \\ln{\\Omega(N_{AA},N_{BB},N_{AB};E)} \n",
    "    = &\\delta N_{AA}(\\ln{(p.f.)_{AA}}- \\ln{N_{AA}}+ 2\\alpha_A)+ \\\\\n",
    "       &\\delta N_{BB}(\\ln{(p.f.)_{BB}}- \\ln{N_{BB}}+ 2\\alpha_B)+ \\\\\n",
    "       &\\delta N_{AB}(\\ln{(p.f.)_{AB}}- \\ln{N_{AB}}+ \\alpha_A + \\alpha_B)\\\\\n",
    "    = &0\n",
    "\\end{align}\n",
    "$$\n",
    "Since, by construction, the variations on number of particles $\\delta N_{AA}$, $\\delta N_{BB}$, $\\delta N_{AB}$ are none zero, the only condition to satify the above equation is\n",
    "$$\n",
    "\\begin{align}\n",
    "\\ln{(p.f.)_{AA}}- \\ln{N_{AA}}+ 2\\alpha_A &= 0 \\\\\n",
    "\\ln{(p.f.)_{BB}}- \\ln{N_{BB}}+ 2\\alpha_B &= 0 \\\\\n",
    "\\ln{(p.f.)_{AB}}- \\ln{N_{AB}}+ \\alpha_A + \\alpha_B &= 0\\\\\n",
    "\\end{align}\n",
    "$$\n",
    "\n",
    "Define $\\lambda$\n",
    "$$\n",
    "\\begin{align}\n",
    "e^{2\\alpha_A} &\\equiv \\lambda_A \\\\\n",
    "e^{2\\alpha_B} &\\equiv \\lambda_B \\\\\n",
    "\\end{align}\n",
    "$$\n",
    "Take exponentiation of the equations\n",
    "$$\n",
    "\\begin{align}\n",
    "\\ln{N_{AA}} &= \\ln{(p.f.)_{AA}}+ 2\\alpha_A \\\\\n",
    "\\ln{N_{BB}} &= \\ln{(p.f.)_{BB}}+ 2\\alpha_A \\\\\n",
    "\\ln{N_{AB}} &= \\ln{(p.f.)_{AB}} + (\\alpha_A + \\alpha_B)\\\\\n",
    "N_{AA} &= e^{2\\alpha_A}(p.f.)_{AA}\\\\\n",
    "N_{BB} &= e^{2\\alpha_B}(p.f.)_{BB}\\\\\n",
    "N_{AB} &= e^{\\alpha_A+\\alpha_B}(p.f.)_{AB}\\\\\n",
    "\\end{align}\n",
    "$$\n",
    "\n",
    "Therefore,\n",
    "$$\n",
    "N_{AA}N_{BB} = e^{2(\\alpha_A+\\alpha_B)}(p.f.)_{AA}(p.f.)_{BB}\n",
    "$$\n",
    "\n",
    "and\n",
    "$$\n",
    "\\frac{N_{AA} N_{BB}}{[N_{AB}]^2} = \\frac{(p.f.)_{AA}(p.f.)_{BB}}{[(p.f.)_{AB}]^2}\\equiv K_{eq}(T)\n",
    "$$"
   ]
  },
  {
   "cell_type": "markdown",
   "metadata": {},
   "source": [
    "**(b)**\n",
    "\n",
    "$$\n",
    "\\begin{align}\n",
    "A(T,V,N_{AA},N_{BB},N_{AB})&= -k_BT\\ln{\\frac{[(p.f.)_{AA}]^{N_{AA}}[(p.f.)_{BB}]^{N_{BB}}[(p.f.)_{AB}]^{N_{AB}}}{N_{AA}!N_{BB}!N_{AB}!}} \\\\\n",
    "\\mu_1 &= \\pdiff{A}{N_{AA}}{T,V,N_{BB},N_{AB}} \\\\\n",
    "      &= -k_BT\\ln{\\frac{(p.f.)_{AA}}{N_{AA}}} \\\\\n",
    "      &= 2\\alpha_Ak_BT \\\\\n",
    "\\mu_2 &= \\pdiff{A}{N_{BB}}{T,V,N_{AA},N_{AB}} \\\\\n",
    "      &= -k_BT\\ln{\\frac{(p.f.)_{BB}}{N_{BB}}} \\\\\n",
    "      &= 2\\alpha_Bk_BT \\\\\n",
    "\\mu_{12} &= \\pdiff{A}{N_{AB}}{T,V,N_{AA},N_{BB}} \\\\\n",
    "      &= -k_BT\\ln{\\frac{(p.f.)_{AB}}{N_{AB}}} \\\\\n",
    "      &= (\\alpha_{A}+\\alpha_{B})k_BT \\\\\n",
    "\\end{align}\n",
    "$$\n",
    "Therefore,\n",
    "$$\\mu_1+\\mu_2 = 2\\mu_{12}$$"
   ]
  },
  {
   "cell_type": "markdown",
   "metadata": {},
   "source": [
    "### Exercise 3.20\n",
    "**(a)** Use the result in Prob. 3.19, and find an expression for the equilibrium constant $K_{eq}(T)$ for the following reaction\n",
    "$$H_2+I_2 <=> 2HI$$\n",
    "in terms of the partition functions for these diatomic molecules.\n",
    "\n",
    "**(b)** Compute $K_{eq}(T)$ at 500 K from the following table of constants\n",
    "\n",
    "The quantities appearing in this table are\n",
    "\n",
    "$D$ = dissociation energy in cm$^{-1}$ <br>\n",
    "$\\omega$ = oscillator angular frequency in cm$^{-1}$ <br>\n",
    "$r$ = internuclear spacing in \\r{A}\n",
    "\n",
    "**(c)** Compare with the experimental value of the equilibrium constant at that temperature\n",
    "$$\\log_{10}{[K_{eq}]^{-1}}=2.078$$\n",
    "\n",
    "---------------------------"
   ]
  },
  {
   "cell_type": "markdown",
   "metadata": {},
   "source": [
    "**(a)**\n",
    "\n",
    "For this reaction, the equilibrium constant can be expressed as\n",
    "$$\n",
    "\\begin{align}\n",
    "K_{eq} &= \\frac{(p.f.)_{H_2}(p.f.)_{I_2}}{[(p.f.)_{HI}]^2} \\\\\n",
    "(p.f.) &= (p.f.)^{trans}(p.f.)^{vib}(p.f.)^{rot}(p.f.)^{el}\n",
    "\\end{align}\n",
    "$$"
   ]
  },
  {
   "cell_type": "markdown",
   "metadata": {},
   "source": [
    "where\n",
    "$$\n",
    "(p.f.)^{trans} = V\\left[\\frac{2\\pi (m_1+m_2)k_BT}{h}\\right]^{\\frac32}\n",
    "$$"
   ]
  },
  {
   "cell_type": "markdown",
   "metadata": {},
   "source": [
    "$$(p.f.)^{vib} = \\frac{e^{-\\theta_V/2T}}{1-e^{-\\theta_V/T}} = \\frac{e^{-h\\nu/2k_BT}}{1-e^{-h\\nu/k_BT}}$$"
   ]
  },
  {
   "cell_type": "markdown",
   "metadata": {},
   "source": [
    "For high temperature limit for vibrational partition function\n",
    "$$(p.f.)^{rot}=\\frac{8\\pi^2I_{12}k_BT}{\\sigma_{12}h^2}$$"
   ]
  },
  {
   "cell_type": "markdown",
   "metadata": {},
   "source": [
    "Since, for temperature $T = 500K$, almost all the electron population will be in the ground state, and the electron partition function can be approximated to\n",
    "$$(p.f.)^{el} = e^{-\\epsilon_0/k_BT}$$"
   ]
  },
  {
   "cell_type": "markdown",
   "metadata": {},
   "source": [
    "Since the equilibrium constant is independent of volume $V$, the $V$ in the translational p.f. is a constant. We can cancel out all the constants in $K_{eq}$"
   ]
  },
  {
   "cell_type": "markdown",
   "metadata": {},
   "source": [
    "$$\n",
    "\\begin{align}\n",
    "K_{eq} &= \\frac{(p.f.)^{trans}_{H_2}(p.f.)^{trans}_{I_2}}{(p.f.)^{trans}_{HI}} \\cdot\n",
    "         \\frac{(p.f.)^{vib}_{H_2}(p.f.)^{vib}_{I_2}}{(p.f.)^{vib}_{HI}} \\cdot\n",
    "         \\frac{(p.f.)^{rot}_{H_2}(p.f.)^{rot}_{I_2}}{(p.f.)^{rot}_{HI}} \\cdot\n",
    "         \\frac{(p.f.)^{el}_{H_2}(p.f.)^{el}_{I_2}}{(p.f.)^{el}_{HI}} \\\\\n",
    "       &= \\left[\\frac{4(m_{H}m_{I})}{(m_{H}+m_{I})^2}\\right]^{\\frac{3}{2}} \\cdot\n",
    "          \\left[\\frac{e^{-h\\nu_{H_2}/2k_BT}}{1-e^{-h\\nu_{H_2}/k_BT}} \\cdot\n",
    "          \\frac{e^{-h\\nu_{I_2}/2k_BT}}{1-e^{-h\\nu_{I_2}/k_BT}} \\cdot\n",
    "          \\left(\\frac{1-e^{-h\\nu_{HI}/k_BT}}{e^{-h\\nu_{HI}/2k_BT}}\\right)^2 \\right]\\cdot \n",
    "          \\left[\\frac{I_{H_2}I_{I_2}}{I_{HI}^2} \\cdot\n",
    "          \\frac{\\sigma_{HI}^2}{\\sigma_{H_2}\\sigma_{I_2}} \\right]\\cdot\n",
    "          \\Big[e^{(-\\varepsilon_{0,H_2}-\\varepsilon_{0,I_2}+2\\varepsilon_{0,HI})/k_BT}\\Big] \\\\\n",
    "\\end{align}\n",
    "$$"
   ]
  },
  {
   "cell_type": "markdown",
   "metadata": {},
   "source": [
    "#### For rotational and vibrational contributions ####\n",
    "Since \n",
    "$$I = \\mu r_0^2$$\n",
    "and \n",
    "$$\\mu = \\frac{m_1m_2}{m_1+m_2}$$\n",
    "The expression becomes\n",
    "$$I = \\frac{m_1m_2}{m_1+m_2}\\cdot {r_{0,12}}^2$$"
   ]
  },
  {
   "cell_type": "markdown",
   "metadata": {},
   "source": [
    "and\n",
    "$$\n",
    "\\begin{align}\n",
    "\\frac{I_{H_2}I_{I_2}}{I_{HI}^2} &= \\frac{m_Hm_I}{4}\\cdot\\left(\\frac{m_H+m_I}{m_Hm_I}\\right)^2 \\cdot \\frac{{r_{0,H_2}}^2{r_{0,I_2}}^2}{({r_{0,HI}}^2)^2} \\\\\n",
    "    &= \\frac{(m_H+m_I)^2}{4m_Hm_I} \\cdot \\frac{(r_{0,H_2}\\cdot r_{0,I_2})^2}{{r_{0,HI}}^4}\n",
    "\\end{align}\n",
    "$$"
   ]
  },
  {
   "cell_type": "markdown",
   "metadata": {},
   "source": [
    "Combining the terms with the ones from translational p.f.\n",
    "$$\n",
    "\\begin{align}\n",
    "\\left[\\frac{4m_{H}m_{I}}{(m_{H}+m_{I})^2}\\right]^\\frac{3}{2}\\cdot \\frac{(m_H+m_I)^2}{4m_Hm_I} \\cdot \\frac{(r_{0,H_2}\\cdot r_{0,I_2})^2}{{r_{0,HI}}^4} \\\\\n",
    "= \\frac{2(m_{H}m_{I})^\\frac{1}{2}}{m_{H}+m_{I}}\\cdot \\frac{(r_{0,H_2}\\cdot r_{0,I_2})^2}{{r_{0,HI}}^4}\n",
    "\\end{align}\n",
    "$$"
   ]
  },
  {
   "cell_type": "markdown",
   "metadata": {},
   "source": [
    "Since, for each type of molecule\n",
    "$$r_0 \\equiv r \\text{ (intermolecular spacing)}$$\n",
    "The final terms become\n",
    "$$\n",
    "\\frac{2(m_{H}m_{I})^\\frac{1}{2}}{m_{H}+m_{I}} \\cdot \n",
    "\\frac{(r_{H_2}r_{I_2})^2}{{r_{HI}}^4}\n",
    "$$"
   ]
  },
  {
   "cell_type": "markdown",
   "metadata": {},
   "source": [
    "#### For electron contributions ###\n",
    "The bonding energies of the reaction,\n",
    "<img src=\"./BondEnergies.svg\"\n",
    "     alt=\"Bonding Energies Graph\"\n",
    "     width=\"400\" />\n",
    "\n",
    "$$\n",
    "\\begin{align}\n",
    "\\Delta \\varepsilon_{rxn} &= 2\\varepsilon_{prod}-\\varepsilon_{react} \\\\\n",
    "    &= -2D_{0,HI} + D_{0,H_2} + D_{0,I_2} \\\\\n",
    "    &= 2\\varepsilon_{0,HI} - \\varepsilon_{0,H_2} - \\varepsilon_{0,I_2} \\\\\n",
    "\\end{align}\n",
    "$$\n",
    "Where $D_0$ is the bond dissociation energy in $\\text{J}$"
   ]
  },
  {
   "cell_type": "markdown",
   "metadata": {},
   "source": [
    "Converting $D$ in $\\text{cm}^{-1}$ to $\\text{J}$\n",
    "$$D_0 = Dhc$$\n",
    "$$2\\varepsilon_{0,HI} - \\varepsilon_{0,H_2} - \\varepsilon_{0,I_2} = -(2D_{HI}-D_{H_2}-D_{I_2})hc$$\n",
    "The final terms become\n",
    "$$\n",
    "e^{-(2D_{HI}-D_{H_2}-D_{I_2})hc/k_BT}\n",
    "$$"
   ]
  },
  {
   "cell_type": "markdown",
   "metadata": {},
   "source": [
    "#### For translational contributions\n",
    "Converting $\\omega$ in $\\text{cm}^{-1}\\text{s}^{-1}$ to $\\nu$ in $\\text{s}^{-1}$\n",
    "$$\\nu = \\frac{\\omega c}{2\\pi} $$\n",
    "and\n",
    "$$h\\nu = \\hbar\\omega c$$\n",
    "The final terms become\n",
    "$$\n",
    "\\frac{e^{-\\hbar\\omega_{H_2}c/2k_BT}}{1-e^{-\\hbar\\omega_{H_2}c/k_BT}} \\cdot\n",
    "\\frac{e^{-\\hbar\\omega_{I_2}c/2k_BT}}{1-e^{-\\hbar\\omega_{I_2}c/k_BT}} \\cdot\n",
    "\\left(\\frac{1-e^{-\\hbar\\omega_{HI}c/k_BT}}{e^{-\\hbar\\omega_{HI}c/2k_BT}}\\right)^2 \n",
    "$$"
   ]
  },
  {
   "cell_type": "markdown",
   "metadata": {},
   "source": [
    "#### The final expression ####\n",
    "Therefore, the expression of $K_{eq}$ in the given $D$,$\\omega$,$r$ parameters is\n",
    "$$\n",
    "K_{eq} = \n",
    "    \\frac{e^{-\\hbar\\omega_{H_2}c/2k_BT}}{1-e^{-\\hbar\\omega_{H_2}c/k_BT}} \\cdot\n",
    "    \\frac{e^{-\\hbar\\omega_{I_2}c/2k_BT}}{1-e^{-\\hbar\\omega_{I_2}c/k_BT}} \\cdot\n",
    "    \\left(\\frac{1-e^{-\\hbar\\omega_{HI}c/k_BT}}{e^{-\\hbar\\omega_{HI}c/2k_BT}}\\right)^2 \n",
    "\\cdot \n",
    "    \\frac{2(m_{H}m_{I})^\\frac{1}{2}}{m_{H}+m_{I}} \\cdot \n",
    "    \\frac{(r_{H_2}r_{I_2})^2}{{r_{HI}}^4} \n",
    "\\cdot \n",
    "    \\frac{\\sigma_{HI}^2}{\\sigma_{H_2}\\sigma_{I_2}} \n",
    "\\cdot\n",
    "    e^{-(2D_{HI}-D_{H_2}-D_{I_2})hc/k_BT}\n",
    "$$"
   ]
  },
  {
   "cell_type": "markdown",
   "metadata": {},
   "source": [
    "**(b)**\n",
    "\n",
    "Plugging in the numbers"
   ]
  },
  {
   "cell_type": "code",
   "execution_count": 79,
   "metadata": {},
   "outputs": [
    {
     "name": "stdout",
     "output_type": "stream",
     "text": [
      "k_vib = 5.262586790305365\n",
      "k_tr = 0.02613302741781733\n",
      "k_el = 0.09257542676023117\n",
      "k_eq = 0.012731650791930576\n",
      "log10(1/k_eq) = 1.8951152818651602\n"
     ]
    }
   ],
   "source": [
    "from math import exp, pi, log10\n",
    "h = 6.62607e-34 # J*s\n",
    "hbar = 1.05457e-34 # J*s\n",
    "kB = 1.38065e-23 # J/K\n",
    "T = 500 # K\n",
    "c = 2.99792e8 # m/s\n",
    "\n",
    "mH = 1.0079\n",
    "mI = 126.9045\n",
    "\n",
    "sigH2 = 2\n",
    "sigI2 = 2\n",
    "sigHI = 1\n",
    "\n",
    "DH2 = 38436*100 # m^-1\n",
    "DI2 = 12625*100 # m^-1\n",
    "DHI = 25944*100 # m^-1 (It was 24,944 on the textbook)\n",
    "\n",
    "omH2 = 4395.0*100  # m^-1\n",
    "omI2 = 214.6*100   # m^-1\n",
    "omHI = 2309.0*100  # m^-1\n",
    "\n",
    "rH2 = 0.7417e-10 # m\n",
    "rI2 = 2.667e-10  # m\n",
    "rHI = 1.604e-10  # m\n",
    "\n",
    "def v_exp(omega):\n",
    "    return exp(-hbar*omega*c/(2*kB*T))/(1-exp(-hbar*omega*c/(kB*T)))\n",
    "    \n",
    "## vib\n",
    "k_eq_t = v_exp(omH2)*v_exp(omI2)*v_exp(omHI)**(-2)\n",
    "print(\"k_vib =\", k_eq_t)\n",
    "\n",
    "## trans and rot\n",
    "k_eq_vr = 2*(mH*mI)**0.5/(mH+mI) * (rH2*rI2)**2/rHI**4 * sigHI**2/(sigH2*sigI2)\n",
    "print(\"k_tr =\", k_eq_vr)\n",
    "\n",
    "## el\n",
    "k_eq_el = exp(-(2*DHI-DH2-DI2)*h*c/(kB*T))\n",
    "print(\"k_el =\",k_eq_el)\n",
    "\n",
    "## K_eq the equilibrium constant\n",
    "k_eq = k_eq_t*k_eq_vr*k_eq_el\n",
    "print(\"k_eq =\", k_eqr\n",
    "print(\"log10(1/k_eq) =\", log10(1/k_eq))"
   ]
  },
  {
   "cell_type": "code",
   "execution_count": 76,
   "metadata": {},
   "outputs": [
    {
     "name": "stdout",
     "output_type": "stream",
     "text": [
      "-0.10254607846085395\n"
     ]
    }
   ],
   "source": [
    "# This answer matches the one (energy in eV) in solution manual, \n",
    "# But the D_HI has changed to 25944\n",
    "print(-(2*DHI-DH2-DI2)*h*c/(1.602e-19))"
   ]
  },
  {
   "cell_type": "code",
   "execution_count": 72,
   "metadata": {},
   "outputs": [
    {
     "data": {
      "text/plain": [
       "0.145425241755517"
      ]
     },
     "execution_count": 72,
     "metadata": {},
     "output_type": "execute_result"
    }
   ],
   "source": [
    "# This should've been the energy in eV using the number from textbook\n",
    "# But it doesn't give the correct answer\n",
    "print(-(2*24944-12625-38436)/8066)"
   ]
  },
  {
   "cell_type": "markdown",
   "metadata": {},
   "source": [
    "**(c)**"
   ]
  },
  {
   "cell_type": "code",
   "execution_count": 78,
   "metadata": {},
   "outputs": [
    {
     "name": "stdout",
     "output_type": "stream",
     "text": [
      "0.08806544754571696\n"
     ]
    }
   ],
   "source": [
    "print((2.078-1.895)/2.078)"
   ]
  },
  {
   "cell_type": "markdown",
   "metadata": {},
   "source": [
    "The $\\log{(1/K)}$ value calcuated from the partion functions is $8.8\\%$ lower than the experimental value "
   ]
  },
  {
   "cell_type": "markdown",
   "metadata": {},
   "source": [
    "### Exercise 3.21 ####\n",
    "Consider all the participants in a chemical reaction to be perfect gases. Show that the volume dependence in the equilibrium constant $K(T,V)$ is just such as to allow one to re-express the law of mass action in terms of the particle densities $n_i = N_i/V$.\n",
    "\n",
    "--------------------"
   ]
  },
  {
   "cell_type": "markdown",
   "metadata": {},
   "source": []
  }
 ],
 "metadata": {
  "kernelspec": {
   "display_name": "Python 3",
   "language": "python",
   "name": "python3"
  },
  "language_info": {
   "codemirror_mode": {
    "name": "ipython",
    "version": 3
   },
   "file_extension": ".py",
   "mimetype": "text/x-python",
   "name": "python",
   "nbconvert_exporter": "python",
   "pygments_lexer": "ipython3",
   "version": "3.8.3"
  }
 },
 "nbformat": 4,
 "nbformat_minor": 4
}
